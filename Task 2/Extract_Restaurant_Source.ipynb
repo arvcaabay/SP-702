{
 "cells": [
  {
   "cell_type": "code",
   "execution_count": 1,
   "id": "d4486418",
   "metadata": {},
   "outputs": [
    {
     "name": "stdout",
     "output_type": "stream",
     "text": [
      "Data saved to 'C:\\Users\\Arboy\\Desktop\\SP702\\Capstone\\Task 2\\concat_restau_reviews.csv'\n"
     ]
    }
   ],
   "source": [
    "import pandas as pd\n",
    "\n",
    "rev1 = pd.read_csv('C:\\\\Users\\\\Arboy\\\\Desktop\\\\SP702\\\\Capstone\\\\Task 2\\\\Restaurant Review 1.csv', encoding='latin1')\n",
    "rev2 = pd.read_csv('C:\\\\Users\\\\Arboy\\\\Desktop\\\\SP702\\\\Capstone\\\\Task 2\\\\Restaurant Review 2.csv', encoding='latin1')\n",
    "rev3 = pd.read_csv('C:\\\\Users\\\\Arboy\\\\Desktop\\\\SP702\\\\Capstone\\\\Task 2\\\\Restaurant Review 3.csv', encoding='latin1')\n",
    "rev4 = pd.read_csv('C:\\\\Users\\\\Arboy\\\\Desktop\\\\SP702\\\\Capstone\\\\Task 2\\\\Restaurant Review 4.csv', encoding='latin1')\n",
    "rev5 = pd.read_csv('C:\\\\Users\\\\Arboy\\\\Desktop\\\\SP702\\\\Capstone\\\\Task 2\\\\Restaurant Review 5.csv', encoding='latin1')\n",
    "rev6 = pd.read_csv('C:\\\\Users\\\\Arboy\\\\Desktop\\\\SP702\\\\Capstone\\\\Task 2\\\\Restaurant Review 6.csv', encoding='latin1')\n",
    "rev7 = pd.read_csv('C:\\\\Users\\\\Arboy\\\\Desktop\\\\SP702\\\\Capstone\\\\Task 2\\\\Restaurant Review 7.csv', encoding='latin1')\n",
    "rev8 = pd.read_csv('C:\\\\Users\\\\Arboy\\\\Desktop\\\\SP702\\\\Capstone\\\\Task 2\\\\Restaurant Review 8.csv', encoding='latin1')\n",
    "rev9 = pd.read_csv('C:\\\\Users\\\\Arboy\\\\Desktop\\\\SP702\\\\Capstone\\\\Task 2\\\\Restaurant Review 9.csv', encoding='latin1')\n",
    "rev10 = pd.read_csv('C:\\\\Users\\\\Arboy\\\\Desktop\\\\SP702\\\\Capstone\\\\Task 2\\\\Restaurant Review 10.csv', encoding='latin1')\n",
    "rev11 = pd.read_csv('C:\\\\Users\\\\Arboy\\\\Desktop\\\\SP702\\\\Capstone\\\\Task 2\\\\Restaurant Review 11.csv', encoding='latin1')\n",
    "rev12 = pd.read_csv('C:\\\\Users\\\\Arboy\\\\Desktop\\\\SP702\\\\Capstone\\\\Task 2\\\\Restaurant Review 12.csv', encoding='latin1')\n",
    "rev13 = pd.read_csv('C:\\\\Users\\\\Arboy\\\\Desktop\\\\SP702\\\\Capstone\\\\Task 2\\\\Restaurant Review 13.csv', encoding='latin1')\n",
    "rev14 = pd.read_csv('C:\\\\Users\\\\Arboy\\\\Desktop\\\\SP702\\\\Capstone\\\\Task 2\\\\Restaurant Review 14.csv', encoding='latin1')\n",
    "rev15 = pd.read_csv('C:\\\\Users\\\\Arboy\\\\Desktop\\\\SP702\\\\Capstone\\\\Task 2\\\\Restaurant Review 15.csv', encoding='latin1')\n",
    "rev16 = pd.read_csv('C:\\\\Users\\\\Arboy\\\\Desktop\\\\SP702\\\\Capstone\\\\Task 2\\\\Restaurant Review 16.csv', encoding='latin1')\n",
    "rev17 = pd.read_csv('C:\\\\Users\\\\Arboy\\\\Desktop\\\\SP702\\\\Capstone\\\\Task 2\\\\Restaurant Review 17.csv', encoding='latin1')\n",
    "rev18 = pd.read_csv('C:\\\\Users\\\\Arboy\\\\Desktop\\\\SP702\\\\Capstone\\\\Task 2\\\\Restaurant Review 18.csv', encoding='latin1')\n",
    "rev19 = pd.read_csv('C:\\\\Users\\\\Arboy\\\\Desktop\\\\SP702\\\\Capstone\\\\Task 2\\\\Restaurant Review 19.csv', encoding='latin1')\n",
    "rev20 = pd.read_csv('C:\\\\Users\\\\Arboy\\\\Desktop\\\\SP702\\\\Capstone\\\\Task 2\\\\Restaurant Review 20.csv', encoding='latin1')\n",
    "rev21 = pd.read_csv('C:\\\\Users\\\\Arboy\\\\Desktop\\\\SP702\\\\Capstone\\\\Task 2\\\\Restaurant Review 21.csv', encoding='latin1')\n",
    "rev22 = pd.read_csv('C:\\\\Users\\\\Arboy\\\\Desktop\\\\SP702\\\\Capstone\\\\Task 2\\\\Restaurant Review 22.csv', encoding='latin1')\n",
    "rev23 = pd.read_csv('C:\\\\Users\\\\Arboy\\\\Desktop\\\\SP702\\\\Capstone\\\\Task 2\\\\Restaurant Review 23.csv', encoding='latin1')\n",
    "rev24 = pd.read_csv('C:\\\\Users\\\\Arboy\\\\Desktop\\\\SP702\\\\Capstone\\\\Task 2\\\\Restaurant Review 24.csv', encoding='latin1')\n",
    "rev25 = pd.read_csv('C:\\\\Users\\\\Arboy\\\\Desktop\\\\SP702\\\\Capstone\\\\Task 2\\\\Restaurant Review 25.csv', encoding='latin1')\n",
    "\n",
    "\n",
    "concatenated_df = pd.concat([rev1, rev2, rev2, rev3, rev4, rev5, rev6, rev7, rev8, rev9, rev10, rev11, rev12, rev13, rev14, rev15, rev16, rev17, rev18, rev19, rev20, rev21, rev22, rev23, rev24, rev25])\n",
    "\n",
    "concatenated_df.drop(\"Unnamed: 0\", axis=1, inplace=True)\n",
    "\n",
    "file_path = 'C:\\\\Users\\\\Arboy\\\\Desktop\\\\SP702\\\\Capstone\\\\Task 2\\\\concat_restau_reviews.csv'\n",
    "\n",
    "# Save the concatenated DataFrame to the specified CSV file\n",
    "concatenated_df.to_csv(file_path, index=False)\n",
    "\n",
    "print(f\"Data saved to '{file_path}'\")\n"
   ]
  },
  {
   "cell_type": "code",
   "execution_count": 2,
   "id": "efa62269",
   "metadata": {},
   "outputs": [
    {
     "name": "stdout",
     "output_type": "stream",
     "text": [
      "DataFrame Information:\n",
      "<class 'pandas.core.frame.DataFrame'>\n",
      "RangeIndex: 520 entries, 0 to 519\n",
      "Data columns (total 3 columns):\n",
      " #   Column           Non-Null Count  Dtype \n",
      "---  ------           --------------  ----- \n",
      " 0   Restaurant Name  520 non-null    object\n",
      " 1   Author           506 non-null    object\n",
      " 2   Review           502 non-null    object\n",
      "dtypes: object(3)\n",
      "memory usage: 12.3+ KB\n",
      "None\n",
      "\n",
      "Missing Values per Column:\n",
      "Restaurant Name     0\n",
      "Author             14\n",
      "Review             18\n",
      "dtype: int64\n"
     ]
    }
   ],
   "source": [
    "concatenated_df = pd.read_csv('C:\\\\Users\\\\Arboy\\\\Desktop\\\\SP702\\\\Capstone\\\\Task 2\\\\concat_restau_reviews.csv')\n",
    "\n",
    "print(\"DataFrame Information:\")\n",
    "print(concatenated_df.info())\n",
    "\n",
    "print(\"\\nMissing Values per Column:\")\n",
    "print(concatenated_df.isnull().sum())"
   ]
  },
  {
   "cell_type": "code",
   "execution_count": 3,
   "id": "9930ca20",
   "metadata": {},
   "outputs": [
    {
     "name": "stdout",
     "output_type": "stream",
     "text": [
      "Data saved to 'C:\\Users\\Arboy\\Desktop\\SP702\\Capstone\\Task 2\\cleaned_restau_reviews.csv'\n"
     ]
    }
   ],
   "source": [
    "concatenated_df.dropna(inplace=True)\n",
    "\n",
    "concatenated_df.reset_index(drop=True, inplace=True)\n",
    "\n",
    "file_path2 = 'C:\\\\Users\\\\Arboy\\\\Desktop\\\\SP702\\\\Capstone\\\\Task 2\\\\cleaned_restau_reviews.csv'\n",
    "\n",
    "concatenated_df.to_csv(file_path2, index=False)\n",
    "\n",
    "print(f\"Data saved to '{file_path2}'\")"
   ]
  },
  {
   "cell_type": "code",
   "execution_count": 25,
   "id": "e684d52f",
   "metadata": {},
   "outputs": [
    {
     "name": "stdout",
     "output_type": "stream",
     "text": [
      "DataFrame Information:\n",
      "<class 'pandas.core.frame.DataFrame'>\n",
      "RangeIndex: 37 entries, 0 to 36\n",
      "Data columns (total 9 columns):\n",
      " #   Column             Non-Null Count  Dtype  \n",
      "---  ------             --------------  -----  \n",
      " 0   Unnamed: 0         37 non-null     int64  \n",
      " 1   Restaurant Name    37 non-null     object \n",
      " 2   Address            37 non-null     object \n",
      " 3   Barangay           26 non-null     object \n",
      " 4   City / Town        37 non-null     object \n",
      " 5   Province           37 non-null     object \n",
      " 6   Price Range (Max)  35 non-null     float64\n",
      " 7    Specialty         35 non-null     object \n",
      " 8   Other Data         37 non-null     object \n",
      "dtypes: float64(1), int64(1), object(7)\n",
      "memory usage: 2.7+ KB\n",
      "None\n",
      "\n",
      "Missing Values per Column:\n",
      "Unnamed: 0            0\n",
      "Restaurant Name       0\n",
      "Address               0\n",
      "Barangay             11\n",
      "City / Town           0\n",
      "Province              0\n",
      "Price Range (Max)     2\n",
      " Specialty            2\n",
      "Other Data            0\n",
      "dtype: int64\n"
     ]
    }
   ],
   "source": [
    "source = pd.read_csv('C:\\\\Users\\\\Arboy\\\\Desktop\\\\SP702\\\\Capstone\\\\Task 2\\\\Restaurant Source.csv', encoding='latin1')\n",
    "\n",
    "print(\"DataFrame Information:\")\n",
    "print(source.info())\n",
    "\n",
    "print(\"\\nMissing Values per Column:\")\n",
    "print(source.isnull().sum())"
   ]
  },
  {
   "cell_type": "code",
   "execution_count": 26,
   "id": "f9299107",
   "metadata": {},
   "outputs": [
    {
     "name": "stdout",
     "output_type": "stream",
     "text": [
      "\n",
      "DataFrame Information (after removing missing values):\n",
      "<class 'pandas.core.frame.DataFrame'>\n",
      "RangeIndex: 25 entries, 0 to 24\n",
      "Data columns (total 9 columns):\n",
      " #   Column             Non-Null Count  Dtype  \n",
      "---  ------             --------------  -----  \n",
      " 0   Unnamed: 0         25 non-null     int64  \n",
      " 1   Restaurant Name    25 non-null     object \n",
      " 2   Address            25 non-null     object \n",
      " 3   Barangay           25 non-null     object \n",
      " 4   City / Town        25 non-null     object \n",
      " 5   Province           25 non-null     object \n",
      " 6   Price Range (Max)  25 non-null     float64\n",
      " 7    Specialty         25 non-null     object \n",
      " 8   Other Data         25 non-null     object \n",
      "dtypes: float64(1), int64(1), object(7)\n",
      "memory usage: 1.9+ KB\n",
      "None\n",
      "Data saved to 'C:\\Users\\Arboy\\Desktop\\SP702\\Capstone\\Task 2\\cleaned_restau.csv'\n"
     ]
    }
   ],
   "source": [
    "source.dropna(inplace=True)\n",
    "\n",
    "source.reset_index(drop=True, inplace=True)\n",
    "\n",
    "print(\"\\nDataFrame Information (after removing missing values):\")\n",
    "print(source.info())\n",
    "\n",
    "file_path2 = 'C:\\\\Users\\\\Arboy\\\\Desktop\\\\SP702\\\\Capstone\\\\Task 2\\\\cleaned_restau.csv'\n",
    "\n",
    "source.to_csv(file_path2, index=False)\n",
    "\n",
    "print(f\"Data saved to '{file_path2}'\")"
   ]
  },
  {
   "cell_type": "code",
   "execution_count": 27,
   "id": "4bb15622",
   "metadata": {},
   "outputs": [
    {
     "name": "stdout",
     "output_type": "stream",
     "text": [
      "DataFrame Information:\n",
      "<class 'pandas.core.frame.DataFrame'>\n",
      "RangeIndex: 25 entries, 0 to 24\n",
      "Data columns (total 9 columns):\n",
      " #   Column             Non-Null Count  Dtype  \n",
      "---  ------             --------------  -----  \n",
      " 0   Unnamed: 0         25 non-null     int64  \n",
      " 1   Restaurant Name    25 non-null     object \n",
      " 2   Address            25 non-null     object \n",
      " 3   Barangay           25 non-null     object \n",
      " 4   City / Town        25 non-null     object \n",
      " 5   Province           25 non-null     object \n",
      " 6   Price Range (Max)  25 non-null     float64\n",
      " 7    Specialty         25 non-null     object \n",
      " 8   Other Data         25 non-null     object \n",
      "dtypes: float64(1), int64(1), object(7)\n",
      "memory usage: 1.9+ KB\n",
      "None\n",
      "\n",
      "Missing Values per Column:\n",
      "Unnamed: 0           0\n",
      "Restaurant Name      0\n",
      "Address              0\n",
      "Barangay             0\n",
      "City / Town          0\n",
      "Province             0\n",
      "Price Range (Max)    0\n",
      " Specialty           0\n",
      "Other Data           0\n",
      "dtype: int64\n"
     ]
    }
   ],
   "source": [
    "source2 = pd.read_csv('C:\\\\Users\\\\Arboy\\\\Desktop\\\\SP702\\\\Capstone\\\\Task 2\\\\cleaned_restau.csv', encoding='latin1')\n",
    "\n",
    "print(\"DataFrame Information:\")\n",
    "print(source.info())\n",
    "\n",
    "print(\"\\nMissing Values per Column:\")\n",
    "print(source.isnull().sum())"
   ]
  },
  {
   "cell_type": "code",
   "execution_count": 28,
   "id": "3fcc3351",
   "metadata": {},
   "outputs": [
    {
     "name": "stdout",
     "output_type": "stream",
     "text": [
      "Data saved to 'C:\\Users\\Arboy\\Desktop\\SP702\\Capstone\\Task 2\\Restaurant.csv'\n"
     ]
    }
   ],
   "source": [
    "import pandas as pd\n",
    "\n",
    "df1 = pd.read_csv('C:\\\\Users\\\\Arboy\\\\Desktop\\\\SP702\\\\Capstone\\\\Task 2\\\\cleaned_restau.csv', encoding='latin1')\n",
    "df2 = pd.read_csv('C:\\\\Users\\\\Arboy\\\\Desktop\\\\SP702\\\\Capstone\\\\Task 2\\\\cleaned_restau_reviews.csv', encoding='latin1')\n",
    "\n",
    "merged_df = pd.merge(df1, df2, on='Restaurant Name', how='left')\n",
    "\n",
    "file_path3 = 'C:\\\\Users\\\\Arboy\\\\Desktop\\\\SP702\\\\Capstone\\\\Task 2\\\\Restaurant.csv'\n",
    "\n",
    "merged_df.to_csv(file_path3, index=False)\n",
    "\n",
    "print(f\"Data saved to '{file_path3}'\")"
   ]
  },
  {
   "cell_type": "code",
   "execution_count": null,
   "id": "b1c48c2b",
   "metadata": {},
   "outputs": [],
   "source": []
  }
 ],
 "metadata": {
  "kernelspec": {
   "display_name": "Python 3 (ipykernel)",
   "language": "python",
   "name": "python3"
  },
  "language_info": {
   "codemirror_mode": {
    "name": "ipython",
    "version": 3
   },
   "file_extension": ".py",
   "mimetype": "text/x-python",
   "name": "python",
   "nbconvert_exporter": "python",
   "pygments_lexer": "ipython3",
   "version": "3.11.4"
  }
 },
 "nbformat": 4,
 "nbformat_minor": 5
}
