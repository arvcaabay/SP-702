{
 "cells": [
  {
   "cell_type": "code",
   "execution_count": 2,
   "id": "1d995324",
   "metadata": {},
   "outputs": [
    {
     "name": "stdout",
     "output_type": "stream",
     "text": [
      "DataFrame Information:\n",
      "<class 'pandas.core.frame.DataFrame'>\n",
      "RangeIndex: 75 entries, 0 to 74\n",
      "Data columns (total 9 columns):\n",
      " #   Column          Non-Null Count  Dtype \n",
      "---  ------          --------------  ----- \n",
      " 0   Tourist Spot    75 non-null     object\n",
      " 1   Classification  75 non-null     object\n",
      " 2   Address         75 non-null     object\n",
      " 3   Barangay        75 non-null     object\n",
      " 4   City / Town     75 non-null     object\n",
      " 5   Province        75 non-null     object\n",
      " 6    Entrance Fee   75 non-null     object\n",
      " 7   Author          75 non-null     object\n",
      " 8   Review          75 non-null     object\n",
      "dtypes: object(9)\n",
      "memory usage: 5.4+ KB\n",
      "None\n",
      "\n",
      "Missing Values per Column:\n",
      "Tourist Spot      0\n",
      "Classification    0\n",
      "Address           0\n",
      "Barangay          0\n",
      "City / Town       0\n",
      "Province          0\n",
      " Entrance Fee     0\n",
      "Author            0\n",
      "Review            0\n",
      "dtype: int64\n"
     ]
    }
   ],
   "source": [
    "import pandas as pd\n",
    "\n",
    "source = pd.read_csv('C:\\\\Users\\\\Arboy\\\\Desktop\\\\SP702\\\\Capstone\\\\Task 3\\\\Tourist Spot Source.csv', encoding='latin1')\n",
    "\n",
    "print(\"DataFrame Information:\")\n",
    "print(source.info())\n",
    "\n",
    "print(\"\\nMissing Values per Column:\")\n",
    "print(source.isnull().sum())"
   ]
  },
  {
   "cell_type": "code",
   "execution_count": null,
   "id": "209893be",
   "metadata": {},
   "outputs": [],
   "source": []
  }
 ],
 "metadata": {
  "kernelspec": {
   "display_name": "Python 3 (ipykernel)",
   "language": "python",
   "name": "python3"
  },
  "language_info": {
   "codemirror_mode": {
    "name": "ipython",
    "version": 3
   },
   "file_extension": ".py",
   "mimetype": "text/x-python",
   "name": "python",
   "nbconvert_exporter": "python",
   "pygments_lexer": "ipython3",
   "version": "3.11.4"
  }
 },
 "nbformat": 4,
 "nbformat_minor": 5
}
